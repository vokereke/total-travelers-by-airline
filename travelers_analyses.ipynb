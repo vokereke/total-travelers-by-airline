{
 "cells": [
  {
   "cell_type": "markdown",
   "id": "260b99e6",
   "metadata": {},
   "source": [
    "Aim: To calculate the total travelers per week from the first date of travel of individual airlines"
   ]
  },
  {
   "cell_type": "code",
   "execution_count": 70,
   "id": "9fc33e1f",
   "metadata": {},
   "outputs": [],
   "source": [
    "#importing libraries\n",
    "import pandas as pd\n",
    "import numpy as np\n",
    "import matplotlib.pyplot as plt"
   ]
  },
  {
   "cell_type": "code",
   "execution_count": 95,
   "id": "dcf0c7a2",
   "metadata": {},
   "outputs": [
    {
     "data": {
      "text/plain": [
       "(996, 4)"
      ]
     },
     "execution_count": 95,
     "metadata": {},
     "output_type": "execute_result"
    }
   ],
   "source": [
    "#importing data\n",
    "total_trav = pd.read_csv(\"df_all.csv\")\n",
    "#obtain shape\n",
    "total_trav.shape"
   ]
  },
  {
   "cell_type": "code",
   "execution_count": 96,
   "id": "f8124f78",
   "metadata": {},
   "outputs": [
    {
     "data": {
      "text/html": [
       "<div>\n",
       "<style scoped>\n",
       "    .dataframe tbody tr th:only-of-type {\n",
       "        vertical-align: middle;\n",
       "    }\n",
       "\n",
       "    .dataframe tbody tr th {\n",
       "        vertical-align: top;\n",
       "    }\n",
       "\n",
       "    .dataframe thead th {\n",
       "        text-align: right;\n",
       "    }\n",
       "</style>\n",
       "<table border=\"1\" class=\"dataframe\">\n",
       "  <thead>\n",
       "    <tr style=\"text-align: right;\">\n",
       "      <th></th>\n",
       "      <th>Travelers</th>\n",
       "      <th>Day</th>\n",
       "      <th>Month</th>\n",
       "      <th>Year</th>\n",
       "    </tr>\n",
       "  </thead>\n",
       "  <tbody>\n",
       "    <tr>\n",
       "      <th>0</th>\n",
       "      <td>2882915.0</td>\n",
       "      <td>28</td>\n",
       "      <td>Nov</td>\n",
       "      <td>2019</td>\n",
       "    </tr>\n",
       "    <tr>\n",
       "      <th>1</th>\n",
       "      <td>2648268.0</td>\n",
       "      <td>27</td>\n",
       "      <td>Nov</td>\n",
       "      <td>2019</td>\n",
       "    </tr>\n",
       "    <tr>\n",
       "      <th>2</th>\n",
       "      <td>1968137.0</td>\n",
       "      <td>26</td>\n",
       "      <td>Nov</td>\n",
       "      <td>2019</td>\n",
       "    </tr>\n",
       "  </tbody>\n",
       "</table>\n",
       "</div>"
      ],
      "text/plain": [
       "   Travelers  Day Month  Year\n",
       "0  2882915.0   28   Nov  2019\n",
       "1  2648268.0   27   Nov  2019\n",
       "2  1968137.0   26   Nov  2019"
      ]
     },
     "execution_count": 96,
     "metadata": {},
     "output_type": "execute_result"
    }
   ],
   "source": [
    "total_trav.head(3)"
   ]
  },
  {
   "cell_type": "code",
   "execution_count": 97,
   "id": "7c55fb26",
   "metadata": {
    "scrolled": true
   },
   "outputs": [
    {
     "data": {
      "text/html": [
       "<div>\n",
       "<style scoped>\n",
       "    .dataframe tbody tr th:only-of-type {\n",
       "        vertical-align: middle;\n",
       "    }\n",
       "\n",
       "    .dataframe tbody tr th {\n",
       "        vertical-align: top;\n",
       "    }\n",
       "\n",
       "    .dataframe thead th {\n",
       "        text-align: right;\n",
       "    }\n",
       "</style>\n",
       "<table border=\"1\" class=\"dataframe\">\n",
       "  <thead>\n",
       "    <tr style=\"text-align: right;\">\n",
       "      <th></th>\n",
       "      <th>Travelers</th>\n",
       "      <th>Day</th>\n",
       "      <th>Month</th>\n",
       "      <th>Year</th>\n",
       "    </tr>\n",
       "  </thead>\n",
       "  <tbody>\n",
       "    <tr>\n",
       "      <th>993</th>\n",
       "      <td>1327289.0</td>\n",
       "      <td>3</td>\n",
       "      <td>Jan</td>\n",
       "      <td>2021</td>\n",
       "    </tr>\n",
       "    <tr>\n",
       "      <th>994</th>\n",
       "      <td>1192881.0</td>\n",
       "      <td>2</td>\n",
       "      <td>Jan</td>\n",
       "      <td>2021</td>\n",
       "    </tr>\n",
       "    <tr>\n",
       "      <th>995</th>\n",
       "      <td>805990.0</td>\n",
       "      <td>1</td>\n",
       "      <td>Jan</td>\n",
       "      <td>2021</td>\n",
       "    </tr>\n",
       "  </tbody>\n",
       "</table>\n",
       "</div>"
      ],
      "text/plain": [
       "     Travelers  Day Month  Year\n",
       "993  1327289.0    3   Jan  2021\n",
       "994  1192881.0    2   Jan  2021\n",
       "995   805990.0    1   Jan  2021"
      ]
     },
     "execution_count": 97,
     "metadata": {},
     "output_type": "execute_result"
    }
   ],
   "source": [
    "total_trav.tail(3)"
   ]
  },
  {
   "cell_type": "markdown",
   "id": "9685cadd",
   "metadata": {},
   "source": [
    "Convert the Day, Month, and Year columns to one date variable"
   ]
  },
  {
   "cell_type": "code",
   "execution_count": 98,
   "id": "ea73f8fa",
   "metadata": {},
   "outputs": [
    {
     "data": {
      "text/html": [
       "<div>\n",
       "<style scoped>\n",
       "    .dataframe tbody tr th:only-of-type {\n",
       "        vertical-align: middle;\n",
       "    }\n",
       "\n",
       "    .dataframe tbody tr th {\n",
       "        vertical-align: top;\n",
       "    }\n",
       "\n",
       "    .dataframe thead th {\n",
       "        text-align: right;\n",
       "    }\n",
       "</style>\n",
       "<table border=\"1\" class=\"dataframe\">\n",
       "  <thead>\n",
       "    <tr style=\"text-align: right;\">\n",
       "      <th></th>\n",
       "      <th>Travelers</th>\n",
       "      <th>Day</th>\n",
       "      <th>Month</th>\n",
       "      <th>Year</th>\n",
       "      <th>date</th>\n",
       "    </tr>\n",
       "  </thead>\n",
       "  <tbody>\n",
       "    <tr>\n",
       "      <th>0</th>\n",
       "      <td>2882915.0</td>\n",
       "      <td>28</td>\n",
       "      <td>11</td>\n",
       "      <td>2019</td>\n",
       "      <td>28-11-2019</td>\n",
       "    </tr>\n",
       "    <tr>\n",
       "      <th>1</th>\n",
       "      <td>2648268.0</td>\n",
       "      <td>27</td>\n",
       "      <td>11</td>\n",
       "      <td>2019</td>\n",
       "      <td>27-11-2019</td>\n",
       "    </tr>\n",
       "    <tr>\n",
       "      <th>2</th>\n",
       "      <td>1968137.0</td>\n",
       "      <td>26</td>\n",
       "      <td>11</td>\n",
       "      <td>2019</td>\n",
       "      <td>26-11-2019</td>\n",
       "    </tr>\n",
       "    <tr>\n",
       "      <th>3</th>\n",
       "      <td>1591158.0</td>\n",
       "      <td>25</td>\n",
       "      <td>11</td>\n",
       "      <td>2019</td>\n",
       "      <td>25-11-2019</td>\n",
       "    </tr>\n",
       "    <tr>\n",
       "      <th>4</th>\n",
       "      <td>2624250.0</td>\n",
       "      <td>24</td>\n",
       "      <td>11</td>\n",
       "      <td>2019</td>\n",
       "      <td>24-11-2019</td>\n",
       "    </tr>\n",
       "  </tbody>\n",
       "</table>\n",
       "</div>"
      ],
      "text/plain": [
       "   Travelers  Day  Month  Year        date\n",
       "0  2882915.0   28     11  2019  28-11-2019\n",
       "1  2648268.0   27     11  2019  27-11-2019\n",
       "2  1968137.0   26     11  2019  26-11-2019\n",
       "3  1591158.0   25     11  2019  25-11-2019\n",
       "4  2624250.0   24     11  2019  24-11-2019"
      ]
     },
     "execution_count": 98,
     "metadata": {},
     "output_type": "execute_result"
    }
   ],
   "source": [
    "#changing Month values to numbers\n",
    "total_trav = total_trav.replace({'Month': {\"Jan\": 1,'Feb':2,'Mar':3,'Apr':4,'May':5,'Jun':6,'Jul':7,'Aug':8,'Sep':9,\n",
    "                                             'Oct':10,'Nov':11,'Dec':12}})\n",
    "#converting Day, Month, and Year columns to string and combining the three columns \n",
    "total_trav['date'] = total_trav.Day.astype(str) + '-' + total_trav.Month.astype(str) + '-' + total_trav.Year.astype(str)\n",
    "total_trav.head()\n"
   ]
  },
  {
   "cell_type": "code",
   "execution_count": 99,
   "id": "4e6832f8",
   "metadata": {},
   "outputs": [
    {
     "data": {
      "text/plain": [
       "dtype('<M8[ns]')"
      ]
     },
     "execution_count": 99,
     "metadata": {},
     "output_type": "execute_result"
    }
   ],
   "source": [
    "#converting date to a date variable\n",
    "total_trav['date'] = pd.to_datetime(total_trav['date'])\n",
    "#to count number of events create a new column and assign 1 to each row\n",
    "# post_long['event_num'] = 1\n",
    "total_trav.date.dtype"
   ]
  },
  {
   "cell_type": "markdown",
   "id": "9809a7bd",
   "metadata": {},
   "source": [
    "Randomly assign airlines to a new column. This is done just for analyses purposes"
   ]
  },
  {
   "cell_type": "code",
   "execution_count": 100,
   "id": "b39835c7",
   "metadata": {},
   "outputs": [],
   "source": [
    "#list of airports\n",
    "#for consistency let's set a seed\n",
    "np.random.seed(123)\n",
    "airlines = ['AS','G4','AA','XP','MX','DL','2D','F9','HA','B6','Test']\n",
    "total_trav['airlines'] = np.random.choice(list(airlines), len(total_trav))"
   ]
  },
  {
   "cell_type": "code",
   "execution_count": 118,
   "id": "7f376d0c",
   "metadata": {},
   "outputs": [
    {
     "data": {
      "text/html": [
       "<div>\n",
       "<style scoped>\n",
       "    .dataframe tbody tr th:only-of-type {\n",
       "        vertical-align: middle;\n",
       "    }\n",
       "\n",
       "    .dataframe tbody tr th {\n",
       "        vertical-align: top;\n",
       "    }\n",
       "\n",
       "    .dataframe thead th {\n",
       "        text-align: right;\n",
       "    }\n",
       "</style>\n",
       "<table border=\"1\" class=\"dataframe\">\n",
       "  <thead>\n",
       "    <tr style=\"text-align: right;\">\n",
       "      <th></th>\n",
       "      <th>Travelers</th>\n",
       "      <th>Day</th>\n",
       "      <th>Month</th>\n",
       "      <th>Year</th>\n",
       "      <th>date</th>\n",
       "      <th>airlines</th>\n",
       "    </tr>\n",
       "  </thead>\n",
       "  <tbody>\n",
       "    <tr>\n",
       "      <th>0</th>\n",
       "      <td>2882915.0</td>\n",
       "      <td>28</td>\n",
       "      <td>11</td>\n",
       "      <td>2019</td>\n",
       "      <td>2019-11-28</td>\n",
       "      <td>AA</td>\n",
       "    </tr>\n",
       "    <tr>\n",
       "      <th>1</th>\n",
       "      <td>2648268.0</td>\n",
       "      <td>27</td>\n",
       "      <td>11</td>\n",
       "      <td>2019</td>\n",
       "      <td>2019-11-27</td>\n",
       "      <td>AA</td>\n",
       "    </tr>\n",
       "    <tr>\n",
       "      <th>2</th>\n",
       "      <td>1968137.0</td>\n",
       "      <td>26</td>\n",
       "      <td>11</td>\n",
       "      <td>2019</td>\n",
       "      <td>2019-11-26</td>\n",
       "      <td>2D</td>\n",
       "    </tr>\n",
       "    <tr>\n",
       "      <th>3</th>\n",
       "      <td>1591158.0</td>\n",
       "      <td>25</td>\n",
       "      <td>11</td>\n",
       "      <td>2019</td>\n",
       "      <td>2019-11-25</td>\n",
       "      <td>G4</td>\n",
       "    </tr>\n",
       "    <tr>\n",
       "      <th>4</th>\n",
       "      <td>2624250.0</td>\n",
       "      <td>24</td>\n",
       "      <td>11</td>\n",
       "      <td>2019</td>\n",
       "      <td>2019-11-24</td>\n",
       "      <td>XP</td>\n",
       "    </tr>\n",
       "    <tr>\n",
       "      <th>5</th>\n",
       "      <td>2435170.0</td>\n",
       "      <td>23</td>\n",
       "      <td>11</td>\n",
       "      <td>2019</td>\n",
       "      <td>2019-11-23</td>\n",
       "      <td>Test</td>\n",
       "    </tr>\n",
       "    <tr>\n",
       "      <th>6</th>\n",
       "      <td>2254188.0</td>\n",
       "      <td>22</td>\n",
       "      <td>11</td>\n",
       "      <td>2019</td>\n",
       "      <td>2019-11-22</td>\n",
       "      <td>B6</td>\n",
       "    </tr>\n",
       "    <tr>\n",
       "      <th>7</th>\n",
       "      <td>2321546.0</td>\n",
       "      <td>21</td>\n",
       "      <td>11</td>\n",
       "      <td>2019</td>\n",
       "      <td>2019-11-21</td>\n",
       "      <td>2D</td>\n",
       "    </tr>\n",
       "    <tr>\n",
       "      <th>8</th>\n",
       "      <td>2194291.0</td>\n",
       "      <td>20</td>\n",
       "      <td>11</td>\n",
       "      <td>2019</td>\n",
       "      <td>2019-11-20</td>\n",
       "      <td>G4</td>\n",
       "    </tr>\n",
       "    <tr>\n",
       "      <th>9</th>\n",
       "      <td>2550459.0</td>\n",
       "      <td>19</td>\n",
       "      <td>11</td>\n",
       "      <td>2019</td>\n",
       "      <td>2019-11-19</td>\n",
       "      <td>AS</td>\n",
       "    </tr>\n",
       "  </tbody>\n",
       "</table>\n",
       "</div>"
      ],
      "text/plain": [
       "   Travelers  Day  Month  Year       date airlines\n",
       "0  2882915.0   28     11  2019 2019-11-28       AA\n",
       "1  2648268.0   27     11  2019 2019-11-27       AA\n",
       "2  1968137.0   26     11  2019 2019-11-26       2D\n",
       "3  1591158.0   25     11  2019 2019-11-25       G4\n",
       "4  2624250.0   24     11  2019 2019-11-24       XP\n",
       "5  2435170.0   23     11  2019 2019-11-23     Test\n",
       "6  2254188.0   22     11  2019 2019-11-22       B6\n",
       "7  2321546.0   21     11  2019 2019-11-21       2D\n",
       "8  2194291.0   20     11  2019 2019-11-20       G4\n",
       "9  2550459.0   19     11  2019 2019-11-19       AS"
      ]
     },
     "execution_count": 118,
     "metadata": {},
     "output_type": "execute_result"
    }
   ],
   "source": [
    "total_trav.head(10)"
   ]
  },
  {
   "cell_type": "markdown",
   "id": "50aaf2c1",
   "metadata": {},
   "source": [
    "For each airline, calculate the total travelers each week from the first date of travel of the individual airlines"
   ]
  },
  {
   "cell_type": "code",
   "execution_count": 102,
   "id": "224203e3",
   "metadata": {
    "scrolled": true
   },
   "outputs": [
    {
     "data": {
      "text/plain": [
       "0"
      ]
     },
     "execution_count": 102,
     "metadata": {},
     "output_type": "execute_result"
    }
   ],
   "source": [
    "#We do not anticipate missing airlines on our list since we inputed that, but let's just check for missing airlines\n",
    "filter_airlines = total_trav['airlines'].isnull()\n",
    "sum(filter_airlines)\n"
   ]
  },
  {
   "cell_type": "code",
   "execution_count": 104,
   "id": "cc674b35",
   "metadata": {},
   "outputs": [
    {
     "data": {
      "text/html": [
       "<div>\n",
       "<style scoped>\n",
       "    .dataframe tbody tr th:only-of-type {\n",
       "        vertical-align: middle;\n",
       "    }\n",
       "\n",
       "    .dataframe tbody tr th {\n",
       "        vertical-align: top;\n",
       "    }\n",
       "\n",
       "    .dataframe thead th {\n",
       "        text-align: right;\n",
       "    }\n",
       "</style>\n",
       "<table border=\"1\" class=\"dataframe\">\n",
       "  <thead>\n",
       "    <tr style=\"text-align: right;\">\n",
       "      <th></th>\n",
       "      <th>Travelers</th>\n",
       "      <th>Day</th>\n",
       "      <th>Month</th>\n",
       "      <th>Year</th>\n",
       "      <th>date</th>\n",
       "      <th>airlines</th>\n",
       "    </tr>\n",
       "  </thead>\n",
       "  <tbody>\n",
       "    <tr>\n",
       "      <th>0</th>\n",
       "      <td>2882915.0</td>\n",
       "      <td>28</td>\n",
       "      <td>11</td>\n",
       "      <td>2019</td>\n",
       "      <td>2019-11-28</td>\n",
       "      <td>AA</td>\n",
       "    </tr>\n",
       "    <tr>\n",
       "      <th>1</th>\n",
       "      <td>2648268.0</td>\n",
       "      <td>27</td>\n",
       "      <td>11</td>\n",
       "      <td>2019</td>\n",
       "      <td>2019-11-27</td>\n",
       "      <td>AA</td>\n",
       "    </tr>\n",
       "    <tr>\n",
       "      <th>2</th>\n",
       "      <td>1968137.0</td>\n",
       "      <td>26</td>\n",
       "      <td>11</td>\n",
       "      <td>2019</td>\n",
       "      <td>2019-11-26</td>\n",
       "      <td>2D</td>\n",
       "    </tr>\n",
       "    <tr>\n",
       "      <th>3</th>\n",
       "      <td>1591158.0</td>\n",
       "      <td>25</td>\n",
       "      <td>11</td>\n",
       "      <td>2019</td>\n",
       "      <td>2019-11-25</td>\n",
       "      <td>G4</td>\n",
       "    </tr>\n",
       "    <tr>\n",
       "      <th>4</th>\n",
       "      <td>2624250.0</td>\n",
       "      <td>24</td>\n",
       "      <td>11</td>\n",
       "      <td>2019</td>\n",
       "      <td>2019-11-24</td>\n",
       "      <td>XP</td>\n",
       "    </tr>\n",
       "  </tbody>\n",
       "</table>\n",
       "</div>"
      ],
      "text/plain": [
       "   Travelers  Day  Month  Year       date airlines\n",
       "0  2882915.0   28     11  2019 2019-11-28       AA\n",
       "1  2648268.0   27     11  2019 2019-11-27       AA\n",
       "2  1968137.0   26     11  2019 2019-11-26       2D\n",
       "3  1591158.0   25     11  2019 2019-11-25       G4\n",
       "4  2624250.0   24     11  2019 2019-11-24       XP"
      ]
     },
     "execution_count": 104,
     "metadata": {},
     "output_type": "execute_result"
    }
   ],
   "source": [
    "#drop rows where airline is 'Test'. \n",
    "filter_airlines1 = total_trav['airlines']=='Test'\n",
    "total_trav_filtered = total_trav[filter_airlines1 == False]\n",
    "total_trav_filtered.head()"
   ]
  },
  {
   "cell_type": "code",
   "execution_count": 105,
   "id": "353c6abb",
   "metadata": {
    "scrolled": true
   },
   "outputs": [
    {
     "data": {
      "text/plain": [
       "(919, 6)"
      ]
     },
     "execution_count": 105,
     "metadata": {},
     "output_type": "execute_result"
    }
   ],
   "source": [
    "total_trav_filtered.shape"
   ]
  },
  {
   "cell_type": "code",
   "execution_count": 110,
   "id": "04400598",
   "metadata": {},
   "outputs": [
    {
     "name": "stdout",
     "output_type": "stream",
     "text": [
      "['AS', 'G4', 'AA', 'XP', 'MX', 'DL', '2D', 'F9', 'HA', 'B6']\n"
     ]
    }
   ],
   "source": [
    "#creating a list of airlines and removing the last item(test)\n",
    "airline_list = airlines[0:10]\n",
    "print(airline_list)"
   ]
  },
  {
   "cell_type": "code",
   "execution_count": 119,
   "id": "b1f68ff4",
   "metadata": {},
   "outputs": [],
   "source": [
    "def wkly_trav_per_airline(df,airline):\n",
    "    #grouping data by airlines and date\n",
    "    df_trav = df.groupby(['airlines','date']).Travelers.sum().to_frame(name = 'Travelers').reset_index()\n",
    "    #subsetting data to show only the airline that is being analyzed\n",
    "    uniq_airline = df_trav[df_trav['airlines'] == airline]\n",
    "    #grouping data by week for the specified airline\n",
    "    airline_week = uniq_airline.groupby(pd.Grouper(key=\"date\", freq=\"W\")).sum() \n",
    "    #add airline name\n",
    "    airline_week['airlines'] = airline\n",
    "    \n",
    "    airline_week_clean1 = airline_week.reset_index()\n",
    "    airline_week_clean1 = airline_week_clean1.rename(columns={\"index\":\"Week\"})\n",
    "    airline_week_clean1['Week'] = airline_week_clean1.index\n",
    "    \n",
    "    return airline_week\n"
   ]
  },
  {
   "cell_type": "code",
   "execution_count": null,
   "id": "fbbd95a9",
   "metadata": {},
   "outputs": [],
   "source": [
    "#calling the wkly_trav_per_airline function in a for loop for the individual airlines\n",
    "airline_trav_list = []\n",
    "  \n",
    "for airlin in airline_list:\n",
    "    airline_data = wkly_trav_per_airline(total_trav_filtered,airlin)\n",
    "    airline_trav_list.append(airline_data)\n",
    "    all_output = pd.concat(airline_trav_list)"
   ]
  },
  {
   "cell_type": "code",
   "execution_count": 126,
   "id": "326aa319",
   "metadata": {
    "scrolled": true
   },
   "outputs": [],
   "source": [
    "all_output= all_output.reset_index()"
   ]
  }
 ],
 "metadata": {
  "kernelspec": {
   "display_name": "Python 3",
   "language": "python",
   "name": "python3"
  },
  "language_info": {
   "codemirror_mode": {
    "name": "ipython",
    "version": 3
   },
   "file_extension": ".py",
   "mimetype": "text/x-python",
   "name": "python",
   "nbconvert_exporter": "python",
   "pygments_lexer": "ipython3",
   "version": "3.8.8"
  }
 },
 "nbformat": 4,
 "nbformat_minor": 5
}
